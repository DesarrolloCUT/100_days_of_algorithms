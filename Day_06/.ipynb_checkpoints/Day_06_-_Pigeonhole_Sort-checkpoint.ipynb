{
 "cells": [
  {
   "cell_type": "markdown",
   "metadata": {},
   "source": [
    "# Pigeonhole Sort\n",
    "For each item in the list, get it’s value, then place it in a second array where the index that it’s copied to is equal to it’s value.  Once all values are copied, loop through copy list and move items back into original list."
   ]
  },
  {
   "cell_type": "markdown",
   "metadata": {},
   "source": [
    "A function based on the Pigeonhole Sort Algorithm"
   ]
  },
  {
   "cell_type": "code",
   "execution_count": 21,
   "metadata": {
    "collapsed": true
   },
   "outputs": [],
   "source": [
    "def pigeonsort( values ):\n",
    "    _min = min(values)\n",
    "    _max = max(values)\n",
    "    _range = _max - _min\n",
    "    \n",
    "    holes = [0 for i in range(_range + 1)]\n",
    "    \n",
    "    #putting in holes\n",
    "    for value in values:\n",
    "        holes[ value - _min ] = value\n",
    "    #moving back to original; in order\n",
    "    values = [value for value in holes]\n",
    "    \n",
    "    return values"
   ]
  },
  {
   "cell_type": "markdown",
   "metadata": {},
   "source": [
    "Let's check"
   ]
  },
  {
   "cell_type": "code",
   "execution_count": 22,
   "metadata": {
    "collapsed": false
   },
   "outputs": [
    {
     "name": "stdout",
     "output_type": "stream",
     "text": [
      "[1, 2, 3, 4, 5]\n"
     ]
    }
   ],
   "source": [
    "print( pigeonsort( [5,4,3,2,1] ) )"
   ]
  }
 ],
 "metadata": {
  "kernelspec": {
   "display_name": "Python 3",
   "language": "python",
   "name": "python3"
  },
  "language_info": {
   "codemirror_mode": {
    "name": "ipython",
    "version": 3
   },
   "file_extension": ".py",
   "mimetype": "text/x-python",
   "name": "python",
   "nbconvert_exporter": "python",
   "pygments_lexer": "ipython3",
   "version": "3.6.0"
  }
 },
 "nbformat": 4,
 "nbformat_minor": 2
}
