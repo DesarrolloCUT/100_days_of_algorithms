{
 "cells": [
  {
   "cell_type": "markdown",
   "metadata": {},
   "source": [
    "# Linked Lists\n",
    "<blockquote>A linked list is a data structure that consists of sequence of <em>nodes</em>. Each node is composed of two fields: <b>data field</b> and <b>reference field</b> which is a pointer that points to the next node in the sequence.</blockquote></br>In Linked List, we use the features of C language like Pointers, Structs, and dynamic memory allocation to create robust data structures.\n",
    "[Read More](http://docs.cs50.net/2016/fall/notes/5/week5.html#linked-lists)"
   ]
  },
  {
   "cell_type": "markdown",
   "metadata": {},
   "source": [
    "I'll be working in C language today, as it makes more sense. The output of the program will be displayed in this Notebook along with a link to the source code. </br>This demonstration will cover:\n",
    "<ul>\n",
    "<li>Creating Linked List</li>\n",
    "<li>Adding nodes to the Linked List</li>\n",
    "<li>Deleting Linked List</li>\n",
    "<li>Searching</li>\n",
    "</ul>"
   ]
  },
  {
   "cell_type": "code",
   "execution_count": 2,
   "metadata": {
    "collapsed": true
   },
   "outputs": [],
   "source": [
    "from IPython.display import Latex, FileLink"
   ]
  },
  {
   "cell_type": "code",
   "execution_count": 9,
   "metadata": {
    "collapsed": false
   },
   "outputs": [
    {
     "name": "stdout",
     "output_type": "stream",
     "text": [
      "Source Code:\n"
     ]
    },
    {
     "data": {
      "text/html": [
       "<a href='Day_16_-_LinkedLists.c' target='_blank'>Day_16_-_LinkedLists.c</a><br>"
      ],
      "text/plain": [
       "C:\\Users\\RajaHasnain\\Documents\\GitHub\\100_days_of_algorithms\\Day_16_-_LinkedLists.c"
      ]
     },
     "execution_count": 9,
     "metadata": {},
     "output_type": "execute_result"
    }
   ],
   "source": [
    "print(\"Source Code:\")\n",
    "FileLink('Day_16_-_LinkedLists.c')"
   ]
  },
  {
   "cell_type": "code",
   "execution_count": null,
   "metadata": {
    "collapsed": true
   },
   "outputs": [],
   "source": []
  }
 ],
 "metadata": {
  "kernelspec": {
   "display_name": "Python 3",
   "language": "python",
   "name": "python3"
  },
  "language_info": {
   "codemirror_mode": {
    "name": "ipython",
    "version": 3
   },
   "file_extension": ".py",
   "mimetype": "text/x-python",
   "name": "python",
   "nbconvert_exporter": "python",
   "pygments_lexer": "ipython3",
   "version": "3.6.0"
  }
 },
 "nbformat": 4,
 "nbformat_minor": 2
}
