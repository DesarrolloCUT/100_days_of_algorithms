{
 "cells": [
  {
   "cell_type": "markdown",
   "metadata": {},
   "source": [
    "# Next Permutation\n",
    "\n",
    "Given a totally ordered set, find the next permutation of the current configuration."
   ]
  },
  {
   "cell_type": "code",
   "execution_count": 1,
   "metadata": {
    "collapsed": true
   },
   "outputs": [],
   "source": [
    "#dependencies\n",
    "import time"
   ]
  },
  {
   "cell_type": "markdown",
   "metadata": {},
   "source": [
    "Defining python function for get the next permutation"
   ]
  },
  {
   "cell_type": "code",
   "execution_count": 2,
   "metadata": {
    "collapsed": true
   },
   "outputs": [],
   "source": [
    "def _next( current ):\n",
    "    n = len(current) #len\n",
    "    for i in reversed(range(n-1)):\n",
    "        if current[i] < current[i+1]: #get pivot value if sequence breaks\n",
    "            break #here the pivot is at i\n",
    "    else: #last permutation\n",
    "        return current\n",
    "    for j in reversed(range(i, n)):\n",
    "        if current[i] < current[j]:\n",
    "            current[i], current[j] = current[j], current[i]\n",
    "            current[i + 1:] = reversed(current[i + 1:])\n",
    "    return current"
   ]
  },
  {
   "cell_type": "code",
   "execution_count": 3,
   "metadata": {
    "collapsed": false
   },
   "outputs": [
    {
     "name": "stdout",
     "output_type": "stream",
     "text": [
      "[4, 3, 1, 2, 5]\n",
      "----- 0.0 seconds -----\n"
     ]
    }
   ],
   "source": [
    "start = time.time()\n",
    "print(_next([4,2,5,3,1]))\n",
    "print(\"----- %s seconds -----\" % (time.time() - start))"
   ]
  },
  {
   "cell_type": "code",
   "execution_count": 4,
   "metadata": {
    "collapsed": false
   },
   "outputs": [
    {
     "name": "stdout",
     "output_type": "stream",
     "text": [
      "[5, 4, 3, 2, 1]\n",
      "----- 0.0 seconds -----\n"
     ]
    }
   ],
   "source": [
    "start = time.time()\n",
    "print(_next([5, 4, 3, 2, 1]))\n",
    "print(\"----- %s seconds -----\" % (time.time() - start))"
   ]
  },
  {
   "cell_type": "code",
   "execution_count": 5,
   "metadata": {
    "collapsed": false
   },
   "outputs": [
    {
     "name": "stdout",
     "output_type": "stream",
     "text": [
      "['A', 'C', 'D', 'B']\n",
      "----- 0.0 seconds -----\n"
     ]
    }
   ],
   "source": [
    "start = time.time()\n",
    "print(_next( list('ACBD') ))\n",
    "print(\"----- %s seconds -----\" % (time.time() - start))"
   ]
  }
 ],
 "metadata": {
  "kernelspec": {
   "display_name": "Python 3",
   "language": "python",
   "name": "python3"
  },
  "language_info": {
   "codemirror_mode": {
    "name": "ipython",
    "version": 3
   },
   "file_extension": ".py",
   "mimetype": "text/x-python",
   "name": "python",
   "nbconvert_exporter": "python",
   "pygments_lexer": "ipython3",
   "version": "3.6.0"
  }
 },
 "nbformat": 4,
 "nbformat_minor": 2
}
