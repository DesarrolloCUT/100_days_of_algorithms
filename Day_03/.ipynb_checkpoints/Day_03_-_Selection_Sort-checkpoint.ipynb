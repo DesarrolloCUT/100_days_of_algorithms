{
 "cells": [
  {
   "cell_type": "markdown",
   "metadata": {},
   "source": [
    "Selection Sort is a sorting algorithm which iterates over a subset of list and places the smallest value at the start of the list.\n",
    "Following code shows its implementation in python."
   ]
  },
  {
   "cell_type": "code",
   "execution_count": 1,
   "metadata": {
    "collapsed": true
   },
   "outputs": [],
   "source": [
    "def select_sort( values ):\n",
    "    n = len( values ) #no of elements\n",
    "    index = 0 #location of smallest value\n",
    "    for i in range( n - 1): #as the last element will already be sorted\n",
    "        smallest = values[i]\n",
    "        for j in range(i, n):\n",
    "            if values[j] < smallest:\n",
    "                index = j \n",
    "        values[index], values[i] = values[i], values[index]\n",
    "    return values"
   ]
  },
  {
   "cell_type": "markdown",
   "metadata": {},
   "source": [
    "Checking the output of the function"
   ]
  },
  {
   "cell_type": "code",
   "execution_count": 2,
   "metadata": {
    "collapsed": false
   },
   "outputs": [
    {
     "name": "stdout",
     "output_type": "stream",
     "text": [
      "[1, 3, 5, 6, 8, 9]\n"
     ]
    }
   ],
   "source": [
    "print( select_sort( [1, 5, 9, 8, 6, 3] ) )"
   ]
  }
 ],
 "metadata": {
  "kernelspec": {
   "display_name": "Python 3",
   "language": "python",
   "name": "python3"
  },
  "language_info": {
   "codemirror_mode": {
    "name": "ipython",
    "version": 3
   },
   "file_extension": ".py",
   "mimetype": "text/x-python",
   "name": "python",
   "nbconvert_exporter": "python",
   "pygments_lexer": "ipython3",
   "version": "3.6.0"
  }
 },
 "nbformat": 4,
 "nbformat_minor": 2
}
